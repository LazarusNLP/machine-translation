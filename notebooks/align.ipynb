{
 "cells": [
  {
   "cell_type": "code",
   "execution_count": 4,
   "metadata": {},
   "outputs": [],
   "source": [
    "from typing import List, Dict\n",
    "import json\n",
    "import re\n",
    "\n",
    "class Aligner:\n",
    "    @staticmethod\n",
    "    def postprocess(text: str) -> str:\n",
    "        text = re.sub(r\"\\s+\", \" \", text)\n",
    "        text = text.strip()\n",
    "        return text\n",
    "\n",
    "    @staticmethod\n",
    "    def remove_verse_ids(text: str) -> str:\n",
    "        matches = re.findall('\\(\\d+.*?\\)', text)\n",
    "        for match in matches:\n",
    "            text = text.replace(match, \"\")\n",
    "        return Aligner.postprocess(text)\n",
    "\n",
    "    @staticmethod\n",
    "    def align(json_path: str, outdir: str) -> List[Dict[str, str]]:\n",
    "        data = json.load(open(json_path))\n",
    "        save_name = f\"{outdir}/{json_path.split('/')[-1]}\"\n",
    "\n",
    "        for idx, datum in enumerate(data):\n",
    "            # get incomplete verses, marked by empty `verse`\n",
    "            if datum[\"verse\"] == None:\n",
    "                # get parent verse\n",
    "                parent_verse = data[idx - 1]\n",
    "                # append incomplete verse to parent verse\n",
    "                parent_verse[\"text\"] = parent_verse[\"text\"] + \" \" + datum[\"text\"]\n",
    "            \n",
    "        # drop incomplete verses\n",
    "        data = [datum for datum in data if datum[\"verse\"] != None]\n",
    "\n",
    "        # remove in-text verse ids\n",
    "        for datum in data:\n",
    "            datum[\"text\"] = Aligner.remove_verse_ids(datum[\"text\"])\n",
    "        \n",
    "        # align verse ranges\n",
    "        count = 0\n",
    "        for idx, datum in enumerate(data):\n",
    "            # count how many empty, range-only verses\n",
    "            if datum[\"text\"] == \"\":\n",
    "                count += 1\n",
    "                continue\n",
    "            else:\n",
    "                parent_index = idx - count - 1\n",
    "                # update parent verse once non-empty is found\n",
    "                if count > 0:\n",
    "                    # update parent verse\n",
    "                    data[parent_index][\"verse\"] = data[parent_index][\"verse\"] + \"-\" + data[idx - 1][\"verse\"]\n",
    "                    count = 0\n",
    "        \n",
    "        # drop empty verses\n",
    "        data = [datum for datum in data if datum[\"text\"] != \"\"]\n",
    "\n",
    "        # {verse_id} = {book_id}_{chapter}_{verse}\n",
    "        for datum in data:\n",
    "            datum[\"verse_id\"] = f'{datum[\"book_id\"]}_{datum[\"chapter\"]}_{datum[\"verse\"]}'\n",
    "\n",
    "        with open(save_name, \"w\") as fp:\n",
    "            json.dump(data, fp, indent=4)\n",
    "\n",
    "        return data"
   ]
  },
  {
   "cell_type": "code",
   "execution_count": 5,
   "metadata": {},
   "outputs": [],
   "source": [
    "class args:\n",
    "    path: str = \"../corpus/sunda.json\"\n",
    "    outdir: str = \"../corpus_aligned\""
   ]
  },
  {
   "cell_type": "code",
   "execution_count": 6,
   "metadata": {},
   "outputs": [],
   "source": [
    "data = Aligner.align(json_path=args.path, outdir=args.outdir)"
   ]
  },
  {
   "cell_type": "code",
   "execution_count": null,
   "metadata": {},
   "outputs": [],
   "source": []
  }
 ],
 "metadata": {
  "kernelspec": {
   "display_name": "torch",
   "language": "python",
   "name": "python3"
  },
  "language_info": {
   "codemirror_mode": {
    "name": "ipython",
    "version": 3
   },
   "file_extension": ".py",
   "mimetype": "text/x-python",
   "name": "python",
   "nbconvert_exporter": "python",
   "pygments_lexer": "ipython3",
   "version": "3.8.15"
  },
  "orig_nbformat": 4
 },
 "nbformat": 4,
 "nbformat_minor": 2
}
