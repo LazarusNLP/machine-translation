{
 "cells": [
  {
   "cell_type": "code",
   "execution_count": 1,
   "metadata": {},
   "outputs": [],
   "source": [
    "from bs4 import BeautifulSoup\n",
    "from urllib import request\n",
    "\n",
    "url = \"https://alkitab.mobi/copyright/\"\n",
    "soup = BeautifulSoup(request.urlopen(url), features=\"lxml\")"
   ]
  },
  {
   "cell_type": "code",
   "execution_count": 22,
   "metadata": {},
   "outputs": [],
   "source": [
    "copyrights = soup.find_all(\"div\", attrs={\"class\": \"copyright\"})\n",
    "lang2copyright = {cpr.find(\"a\")[\"name\"]: cpr.text for cpr in copyrights}"
   ]
  },
  {
   "cell_type": "code",
   "execution_count": 26,
   "metadata": {},
   "outputs": [],
   "source": [
    "class args:\n",
    "    corpus_dir: str = \"../corpus/\"\n",
    "    outdir: str = \"../corpus_copyrights/\""
   ]
  },
  {
   "cell_type": "code",
   "execution_count": 27,
   "metadata": {},
   "outputs": [],
   "source": [
    "from pathlib import Path\n",
    "\n",
    "corpus_files = sorted(Path(args.corpus_dir).glob(\"*.json\"))\n",
    "languages = [c.stem for c in corpus_files]"
   ]
  },
  {
   "cell_type": "code",
   "execution_count": 39,
   "metadata": {},
   "outputs": [],
   "source": [
    "import re\n",
    "\n",
    "for language in languages:\n",
    "    with open(f\"{args.outdir}/{language}.txt\", \"w\") as f:\n",
    "        text = lang2copyright[language]\n",
    "        text = re.sub(r\"\\s +\", \"\", text)\n",
    "        text = text.replace(\"\\t\", \"\").strip(\"\\n\")\n",
    "        f.write(text)"
   ]
  }
 ],
 "metadata": {
  "kernelspec": {
   "display_name": "torch",
   "language": "python",
   "name": "python3"
  },
  "language_info": {
   "codemirror_mode": {
    "name": "ipython",
    "version": 3
   },
   "file_extension": ".py",
   "mimetype": "text/x-python",
   "name": "python",
   "nbconvert_exporter": "python",
   "pygments_lexer": "ipython3",
   "version": "3.8.15"
  },
  "orig_nbformat": 4
 },
 "nbformat": 4,
 "nbformat_minor": 2
}
